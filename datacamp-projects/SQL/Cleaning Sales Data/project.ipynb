{
 "cells": [
  {
   "cell_type": "markdown",
   "id": "67093a14-568f-4fee-b807-eb0f3ceee0d3",
   "metadata": {},
   "source": [
    "# Cleaning a PostgreSQL Database\n",
    "\n",
    "In this project, you will work with data from a hypothetical Super Store to challenge and enhance your SQL skills in data cleaning. This project will engage you in identifying top categories based on the highest profit margins and detecting missing values, utilizing your comprehensive knowledge of SQL concepts.\n",
    "\n",
    "## Data Dictionary:\n",
    "\n",
    "### `orders`:\n",
    "| Column | Definition | Data type | Comments |\n",
    "|--------|------------|-----------|----------|\n",
    "| `row_id`| Unique Record ID | `INTEGER` |\n",
    "| `order_id` | Identifier for each order in table | `TEXT` | Connects to `order_id` in `returned_orders` table |\n",
    "| `order_date` | Date when order was placed | `TEXT` |\n",
    "| `market` | Market order_id belongs to | `TEXT` |\n",
    "| `region` | Region Customer belongs to | `TEXT` | Connects to `region` in `people` table |\n",
    "| `product_id` | Identifier of Product bought | `TEXT` | Connects to `product_id` in `products` table |\n",
    "| `sales` | Total Sales Amount for the Line Item | `DOUBLE PRECISION` |\n",
    "| `quantity` | Total Quantity for the Line Item | `DOUBLE PRECISION` |\n",
    "| `discount` | Discount applied for the Line Item | `DOUBLE PRECISION` |\n",
    "| `profit` | Total Profit earned on the Line Item | `DOUBLE PRECISION` |\n",
    "\n",
    "### `returned_orders`:\n",
    "| Column | Definition | Data type |\n",
    "|--------|------------|-----------|\n",
    "| `returned`| Yes values for Order / Line Item Returned | `TEXT` |\n",
    "| `order_id` | Identifier for each order in table | `TEXT` |\n",
    "| `market` | Market order_id belongs to | `TEXT` |\n",
    "\n",
    "### `people`:\n",
    "| Column | Definition | Data type |\n",
    "|--------|------------|-----------|\n",
    "| `person`| Name of Salesperson credited with Order | `TEXT` |\n",
    "| `region` | Region Salesperson in operating in | `TEXT` |\n",
    "\n",
    "### `products`:\n",
    "| Column | Definition | Data type |\n",
    "|--------|------------|-----------|\n",
    "| `product_id`| Unique Identifier for the Product | `TEXT` |\n",
    "| `category` | Category Product belongs to | `TEXT` |\n",
    "| `sub_category` | Sub Category Product belongs to | `TEXT` |\n",
    "| `product_name` | Detailed Name of the Product | `TEXT` |\n",
    "\n",
    "## Instructions\n",
    "\n",
    "Let's dive into the world of SQL and work our magic to clean and analyze data from our hypothetical Super Store.\n",
    "\n",
    "Find the top 5 products from each category based on highest total sales. The output should be sorted by category in ascending order and by sales in descending order within each category, i.e. within each category product with highest margin should sit on the top. Save the query as top_five_products_each_category, containing the following columns:\n",
    "\n",
    "- category\n",
    "- product_name\n",
    "- product_total_sales (rounded to two decimal places)\n",
    "- product_total_profit (rounded to two decimal places)\n",
    "- product_rank\n",
    "\n",
    "Calculate the quantity for orders with missing values in the quantity column. To do this, first calculate the unit price for each product based on the orders where the quantity is available, considering factors that might affect pricing. Then, use this unit price to estimate the missing quantity values for orders where the quantity is missing. The calculated values should be stored in the calculated_quantity column. Save query output as impute_missing_values, containing the following columns:\n",
    "\n",
    "- product_id\n",
    "- discount\n",
    "- market\n",
    "- region\n",
    "- sales\n",
    "- quantity\n",
    "- calculated_quantity (rounded to zero decimal places)\n"
   ]
  },
  {
   "cell_type": "code",
   "execution_count": null,
   "id": "5c2a00a9-2231-45b9-97be-13a7ebec4d2b",
   "metadata": {
    "customType": "sql",
    "dataFrameVariableName": "top_five_products_each_category",
    "executionCancelledAt": null,
    "executionTime": null,
    "integrationExample": {
     "example": "-- Explore the data in the table\nSELECT *\nFROM companies\nLIMIT 5",
     "sqlSource": {
      "integrationId": "89e17161-a224-4a8a-846b-0adc0fe7a4b1",
      "integrationType": "postgresql",
      "type": "integration"
     }
    },
    "lastExecutedAt": null,
    "lastExecutedByKernel": null,
    "lastScheduledRunId": null,
    "lastSuccessfullyExecutedCode": null,
    "outputsMetadata": {
     "0": {
      "height": 273,
      "type": "dataFrame"
     }
    },
    "sqlCellMode": "dataFrame",
    "sqlSource": {
     "integrationId": "89e17161-a224-4a8a-846b-0adc0fe7a4b1",
     "integrationType": "postgresql",
     "type": "integration"
    }
   },
   "outputs": [
    {
     "data": {
      "application/com.datacamp.data-table.v2+json": {
       "table": {
        "data": {
         "city": [
          "San Salvador",
          "Manila",
          "New York City",
          "Wollongong",
          "Brisbane"
         ],
         "country": [
          "El Salvador",
          "Philippines",
          "United States",
          "Australia",
          "Australia"
         ],
         "customer_id": [
          "ZC-21910",
          "JB-16000",
          "RH-19495",
          "JR-16210",
          "CR-12730"
         ],
         "customer_name": [
          "Zuschuss Carroll",
          "Joy Bell-",
          "Rick Hansen",
          "Justin Ritter",
          "Craig Reiter"
         ],
         "discount": [
          0,
          0.15,
          0,
          0.1,
          0.1
         ],
         "index": [
          0,
          1,
          2,
          3,
          4
         ],
         "market": [
          "LATAM",
          "APAC",
          "US",
          "APAC",
          "APAC"
         ],
         "order_date": [
          "2014-05-28T00:00:00.000",
          "2013-01-15T00:00:00.000",
          "2012-07-31T00:00:00.000",
          "2013-02-05T00:00:00.000",
          "2013-10-17T00:00:00.000"
         ],
         "order_id": [
          "MX-2014-105921",
          "ID-2013-61442",
          "CA-2012-124891",
          "IN-2013-77878",
          "IN-2013-71249"
         ],
         "order_priority": [
          "Medium",
          "Low",
          "Critical",
          "Critical",
          "Medium"
         ],
         "postal_code": [
          null,
          null,
          10024,
          null,
          null
         ],
         "product_id": [
          "TEC-AC-10004626",
          "OFF-BI-10001400",
          "TEC-AC-10003033",
          "FUR-CH-10003950",
          "TEC-PH-10004664"
         ],
         "profit": [
          0,
          0,
          762.1845,
          -288.765,
          919.971
         ],
         "quantity": [
          2,
          5,
          7,
          9,
          9
         ],
         "region": [
          "Central",
          "Southeast Asia",
          "East",
          "Oceania",
          "Oceania"
         ],
         "row_id": [
          957,
          24359,
          32298,
          26341,
          25330
         ],
         "sales": [
          342.08,
          122.4,
          2309.65,
          3709.395,
          5175.171
         ],
         "segment": [
          "Consumer",
          "Consumer",
          "Consumer",
          "Corporate",
          "Consumer"
         ],
         "ship_date": [
          "2014-06-03T00:00:00.000",
          "2013-01-21T00:00:00.000",
          "2012-07-31T00:00:00.000",
          "2013-02-07T00:00:00.000",
          "2013-10-18T00:00:00.000"
         ],
         "ship_mode": [
          "Standard Class",
          "Standard Class",
          "Same Day",
          "Second Class",
          "First Class"
         ],
         "shipping_cost": [
          21.713,
          21.71,
          933.57,
          923.63,
          915.49
         ],
         "state": [
          "San Salvador",
          "National Capital",
          "New York",
          "New South Wales",
          "Queensland"
         ]
        },
        "schema": {
         "fields": [
          {
           "name": "index",
           "type": "integer"
          },
          {
           "name": "row_id",
           "type": "integer"
          },
          {
           "name": "order_id",
           "type": "string"
          },
          {
           "name": "order_date",
           "type": "datetime"
          },
          {
           "name": "ship_date",
           "type": "datetime"
          },
          {
           "name": "ship_mode",
           "type": "string"
          },
          {
           "name": "customer_id",
           "type": "string"
          },
          {
           "name": "customer_name",
           "type": "string"
          },
          {
           "name": "segment",
           "type": "string"
          },
          {
           "name": "city",
           "type": "string"
          },
          {
           "name": "state",
           "type": "string"
          },
          {
           "name": "country",
           "type": "string"
          },
          {
           "name": "postal_code",
           "type": "number"
          },
          {
           "name": "market",
           "type": "string"
          },
          {
           "name": "region",
           "type": "string"
          },
          {
           "name": "product_id",
           "type": "string"
          },
          {
           "name": "sales",
           "type": "number"
          },
          {
           "name": "quantity",
           "type": "integer"
          },
          {
           "name": "discount",
           "type": "number"
          },
          {
           "name": "profit",
           "type": "number"
          },
          {
           "name": "shipping_cost",
           "type": "number"
          },
          {
           "name": "order_priority",
           "type": "string"
          }
         ],
         "pandas_version": "1.4.0",
         "primaryKey": [
          "index"
         ]
        }
       },
       "total_rows": 5,
       "truncation_type": null
      },
      "text/html": [
       "<div>\n",
       "<style scoped>\n",
       "    .dataframe tbody tr th:only-of-type {\n",
       "        vertical-align: middle;\n",
       "    }\n",
       "\n",
       "    .dataframe tbody tr th {\n",
       "        vertical-align: top;\n",
       "    }\n",
       "\n",
       "    .dataframe thead th {\n",
       "        text-align: right;\n",
       "    }\n",
       "</style>\n",
       "<table border=\"1\" class=\"dataframe\">\n",
       "  <thead>\n",
       "    <tr style=\"text-align: right;\">\n",
       "      <th></th>\n",
       "      <th>row_id</th>\n",
       "      <th>order_id</th>\n",
       "      <th>order_date</th>\n",
       "      <th>ship_date</th>\n",
       "      <th>ship_mode</th>\n",
       "      <th>customer_id</th>\n",
       "      <th>customer_name</th>\n",
       "      <th>segment</th>\n",
       "      <th>city</th>\n",
       "      <th>state</th>\n",
       "      <th>country</th>\n",
       "      <th>postal_code</th>\n",
       "      <th>market</th>\n",
       "      <th>region</th>\n",
       "      <th>product_id</th>\n",
       "      <th>sales</th>\n",
       "      <th>quantity</th>\n",
       "      <th>discount</th>\n",
       "      <th>profit</th>\n",
       "      <th>shipping_cost</th>\n",
       "      <th>order_priority</th>\n",
       "    </tr>\n",
       "  </thead>\n",
       "  <tbody>\n",
       "    <tr>\n",
       "      <th>0</th>\n",
       "      <td>957</td>\n",
       "      <td>MX-2014-105921</td>\n",
       "      <td>2014-05-28</td>\n",
       "      <td>2014-06-03</td>\n",
       "      <td>Standard Class</td>\n",
       "      <td>ZC-21910</td>\n",
       "      <td>Zuschuss Carroll</td>\n",
       "      <td>Consumer</td>\n",
       "      <td>San Salvador</td>\n",
       "      <td>San Salvador</td>\n",
       "      <td>El Salvador</td>\n",
       "      <td>NaN</td>\n",
       "      <td>LATAM</td>\n",
       "      <td>Central</td>\n",
       "      <td>TEC-AC-10004626</td>\n",
       "      <td>342.080</td>\n",
       "      <td>2</td>\n",
       "      <td>0.00</td>\n",
       "      <td>0.0000</td>\n",
       "      <td>21.713</td>\n",
       "      <td>Medium</td>\n",
       "    </tr>\n",
       "    <tr>\n",
       "      <th>1</th>\n",
       "      <td>24359</td>\n",
       "      <td>ID-2013-61442</td>\n",
       "      <td>2013-01-15</td>\n",
       "      <td>2013-01-21</td>\n",
       "      <td>Standard Class</td>\n",
       "      <td>JB-16000</td>\n",
       "      <td>Joy Bell-</td>\n",
       "      <td>Consumer</td>\n",
       "      <td>Manila</td>\n",
       "      <td>National Capital</td>\n",
       "      <td>Philippines</td>\n",
       "      <td>NaN</td>\n",
       "      <td>APAC</td>\n",
       "      <td>Southeast Asia</td>\n",
       "      <td>OFF-BI-10001400</td>\n",
       "      <td>122.400</td>\n",
       "      <td>5</td>\n",
       "      <td>0.15</td>\n",
       "      <td>0.0000</td>\n",
       "      <td>21.710</td>\n",
       "      <td>Low</td>\n",
       "    </tr>\n",
       "    <tr>\n",
       "      <th>2</th>\n",
       "      <td>32298</td>\n",
       "      <td>CA-2012-124891</td>\n",
       "      <td>2012-07-31</td>\n",
       "      <td>2012-07-31</td>\n",
       "      <td>Same Day</td>\n",
       "      <td>RH-19495</td>\n",
       "      <td>Rick Hansen</td>\n",
       "      <td>Consumer</td>\n",
       "      <td>New York City</td>\n",
       "      <td>New York</td>\n",
       "      <td>United States</td>\n",
       "      <td>10024.0</td>\n",
       "      <td>US</td>\n",
       "      <td>East</td>\n",
       "      <td>TEC-AC-10003033</td>\n",
       "      <td>2309.650</td>\n",
       "      <td>7</td>\n",
       "      <td>0.00</td>\n",
       "      <td>762.1845</td>\n",
       "      <td>933.570</td>\n",
       "      <td>Critical</td>\n",
       "    </tr>\n",
       "    <tr>\n",
       "      <th>3</th>\n",
       "      <td>26341</td>\n",
       "      <td>IN-2013-77878</td>\n",
       "      <td>2013-02-05</td>\n",
       "      <td>2013-02-07</td>\n",
       "      <td>Second Class</td>\n",
       "      <td>JR-16210</td>\n",
       "      <td>Justin Ritter</td>\n",
       "      <td>Corporate</td>\n",
       "      <td>Wollongong</td>\n",
       "      <td>New South Wales</td>\n",
       "      <td>Australia</td>\n",
       "      <td>NaN</td>\n",
       "      <td>APAC</td>\n",
       "      <td>Oceania</td>\n",
       "      <td>FUR-CH-10003950</td>\n",
       "      <td>3709.395</td>\n",
       "      <td>9</td>\n",
       "      <td>0.10</td>\n",
       "      <td>-288.7650</td>\n",
       "      <td>923.630</td>\n",
       "      <td>Critical</td>\n",
       "    </tr>\n",
       "    <tr>\n",
       "      <th>4</th>\n",
       "      <td>25330</td>\n",
       "      <td>IN-2013-71249</td>\n",
       "      <td>2013-10-17</td>\n",
       "      <td>2013-10-18</td>\n",
       "      <td>First Class</td>\n",
       "      <td>CR-12730</td>\n",
       "      <td>Craig Reiter</td>\n",
       "      <td>Consumer</td>\n",
       "      <td>Brisbane</td>\n",
       "      <td>Queensland</td>\n",
       "      <td>Australia</td>\n",
       "      <td>NaN</td>\n",
       "      <td>APAC</td>\n",
       "      <td>Oceania</td>\n",
       "      <td>TEC-PH-10004664</td>\n",
       "      <td>5175.171</td>\n",
       "      <td>9</td>\n",
       "      <td>0.10</td>\n",
       "      <td>919.9710</td>\n",
       "      <td>915.490</td>\n",
       "      <td>Medium</td>\n",
       "    </tr>\n",
       "  </tbody>\n",
       "</table>\n",
       "</div>"
      ],
      "text/plain": [
       "   row_id        order_id order_date  ...    profit shipping_cost order_priority\n",
       "0     957  MX-2014-105921 2014-05-28  ...    0.0000        21.713         Medium\n",
       "1   24359   ID-2013-61442 2013-01-15  ...    0.0000        21.710            Low\n",
       "2   32298  CA-2012-124891 2012-07-31  ...  762.1845       933.570       Critical\n",
       "3   26341   IN-2013-77878 2013-02-05  ... -288.7650       923.630       Critical\n",
       "4   25330   IN-2013-71249 2013-10-17  ...  919.9710       915.490         Medium\n",
       "\n",
       "[5 rows x 21 columns]"
      ]
     },
     "execution_count": 3,
     "metadata": {},
     "output_type": "execute_result"
    }
   ],
   "source": [
    "# Taking a quick look to the data\n",
    "SELECT *\n",
    "FROM orders\n",
    "LIMIT 5"
   ]
  },
  {
   "cell_type": "code",
   "execution_count": 4,
   "id": "cc12a438-9468-4535-9d03-cb389711a4c0",
   "metadata": {
    "customType": "sql",
    "dataFrameVariableName": "df2",
    "executionCancelledAt": null,
    "executionTime": null,
    "lastExecutedAt": null,
    "lastExecutedByKernel": null,
    "lastScheduledRunId": null,
    "lastSuccessfullyExecutedCode": null,
    "outputsMetadata": {
     "0": {
      "height": 250,
      "type": "dataFrame"
     }
    },
    "sqlCellMode": "dataFrame",
    "sqlSource": {
     "integrationId": "89e17161-a224-4a8a-846b-0adc0fe7a4b1",
     "integrationType": "postgresql",
     "type": "integration"
    }
   },
   "outputs": [
    {
     "data": {
      "application/com.datacamp.data-table.v2+json": {
       "table": {
        "data": {
         "category": [
          "Technology",
          "Furniture",
          "Technology",
          "Technology",
          "Technology"
         ],
         "index": [
          0,
          1,
          2,
          3,
          4
         ],
         "product_id": [
          "TEC-AC-10003033",
          "FUR-CH-10003950",
          "TEC-PH-10004664",
          "TEC-PH-10004583",
          "TEC-SHA-10000501"
         ],
         "product_name": [
          "Plantronics CS510 - Over-the-Head monaural Wireless Headset System",
          "Novimex Executive Leather Armchair, Black",
          "Nokia Smart Phone, with Caller ID",
          "Motorola Smart Phone, Cordless",
          "Sharp Wireless Fax, High-Speed"
         ],
         "sub_category": [
          "Accessories",
          "Chairs",
          "Phones",
          "Phones",
          "Copiers"
         ]
        },
        "schema": {
         "fields": [
          {
           "name": "index",
           "type": "integer"
          },
          {
           "name": "product_id",
           "type": "string"
          },
          {
           "name": "category",
           "type": "string"
          },
          {
           "name": "sub_category",
           "type": "string"
          },
          {
           "name": "product_name",
           "type": "string"
          }
         ],
         "pandas_version": "1.4.0",
         "primaryKey": [
          "index"
         ]
        }
       },
       "total_rows": 5,
       "truncation_type": null
      },
      "text/html": [
       "<div>\n",
       "<style scoped>\n",
       "    .dataframe tbody tr th:only-of-type {\n",
       "        vertical-align: middle;\n",
       "    }\n",
       "\n",
       "    .dataframe tbody tr th {\n",
       "        vertical-align: top;\n",
       "    }\n",
       "\n",
       "    .dataframe thead th {\n",
       "        text-align: right;\n",
       "    }\n",
       "</style>\n",
       "<table border=\"1\" class=\"dataframe\">\n",
       "  <thead>\n",
       "    <tr style=\"text-align: right;\">\n",
       "      <th></th>\n",
       "      <th>product_id</th>\n",
       "      <th>category</th>\n",
       "      <th>sub_category</th>\n",
       "      <th>product_name</th>\n",
       "    </tr>\n",
       "  </thead>\n",
       "  <tbody>\n",
       "    <tr>\n",
       "      <th>0</th>\n",
       "      <td>TEC-AC-10003033</td>\n",
       "      <td>Technology</td>\n",
       "      <td>Accessories</td>\n",
       "      <td>Plantronics CS510 - Over-the-Head monaural Wir...</td>\n",
       "    </tr>\n",
       "    <tr>\n",
       "      <th>1</th>\n",
       "      <td>FUR-CH-10003950</td>\n",
       "      <td>Furniture</td>\n",
       "      <td>Chairs</td>\n",
       "      <td>Novimex Executive Leather Armchair, Black</td>\n",
       "    </tr>\n",
       "    <tr>\n",
       "      <th>2</th>\n",
       "      <td>TEC-PH-10004664</td>\n",
       "      <td>Technology</td>\n",
       "      <td>Phones</td>\n",
       "      <td>Nokia Smart Phone, with Caller ID</td>\n",
       "    </tr>\n",
       "    <tr>\n",
       "      <th>3</th>\n",
       "      <td>TEC-PH-10004583</td>\n",
       "      <td>Technology</td>\n",
       "      <td>Phones</td>\n",
       "      <td>Motorola Smart Phone, Cordless</td>\n",
       "    </tr>\n",
       "    <tr>\n",
       "      <th>4</th>\n",
       "      <td>TEC-SHA-10000501</td>\n",
       "      <td>Technology</td>\n",
       "      <td>Copiers</td>\n",
       "      <td>Sharp Wireless Fax, High-Speed</td>\n",
       "    </tr>\n",
       "  </tbody>\n",
       "</table>\n",
       "</div>"
      ],
      "text/plain": [
       "         product_id  ...                                       product_name\n",
       "0   TEC-AC-10003033  ...  Plantronics CS510 - Over-the-Head monaural Wir...\n",
       "1   FUR-CH-10003950  ...          Novimex Executive Leather Armchair, Black\n",
       "2   TEC-PH-10004664  ...                  Nokia Smart Phone, with Caller ID\n",
       "3   TEC-PH-10004583  ...                     Motorola Smart Phone, Cordless\n",
       "4  TEC-SHA-10000501  ...                     Sharp Wireless Fax, High-Speed\n",
       "\n",
       "[5 rows x 4 columns]"
      ]
     },
     "execution_count": 4,
     "metadata": {},
     "output_type": "execute_result"
    }
   ],
   "source": [
    "SELECT *\n",
    "FROM products\n",
    "LIMIT 5"
   ]
  },
  {
   "cell_type": "code",
   "execution_count": null,
   "id": "b2cfb72c-0d23-4e0e-8a0b-09d557f6060f",
   "metadata": {
    "customType": "sql",
    "dataFrameVariableName": "df",
    "executionCancelledAt": null,
    "executionTime": null,
    "lastExecutedAt": null,
    "lastExecutedByKernel": null,
    "lastScheduledRunId": null,
    "lastSuccessfullyExecutedCode": null,
    "outputsMetadata": {
     "0": {
      "height": 530,
      "type": "dataFrame"
     }
    },
    "sqlCellMode": "dataFrame",
    "sqlSource": {
     "integrationId": "89e17161-a224-4a8a-846b-0adc0fe7a4b1",
     "integrationType": "postgresql",
     "type": "integration"
    }
   },
   "outputs": [
    {
     "data": {
      "application/com.datacamp.data-table.v2+json": {
       "table": {
        "data": {
         "category": [
          "Furniture",
          "Furniture",
          "Furniture",
          "Furniture",
          "Furniture",
          "Office Supplies",
          "Office Supplies",
          "Office Supplies",
          "Office Supplies",
          "Office Supplies",
          "Technology",
          "Technology",
          "Technology",
          "Technology",
          "Technology"
         ],
         "index": [
          0,
          1,
          2,
          3,
          4,
          5,
          6,
          7,
          8,
          9,
          10,
          11,
          12,
          13,
          14
         ],
         "product_name": [
          "Hon Executive Leather Armchair, Adjustable",
          "Office Star Executive Leather Armchair, Adjustable",
          "Harbour Creations Executive Leather Armchair, Adjustable",
          "SAFCO Executive Leather Armchair, Black",
          "Novimex Executive Leather Armchair, Adjustable",
          "Eldon File Cart, Single Width",
          "Hoover Stove, White",
          "Hoover Stove, Red",
          "Rogers File Cart, Single Width",
          "Smead Lockers, Industrial",
          "Apple Smart Phone, Full Size",
          "Cisco Smart Phone, Full Size",
          "Motorola Smart Phone, Full Size",
          "Nokia Smart Phone, Full Size",
          "Canon imageCLASS 2200 Advanced Copier"
         ],
         "product_rank": [
          1,
          2,
          3,
          4,
          5,
          1,
          2,
          3,
          4,
          5,
          1,
          2,
          3,
          4,
          5
         ],
         "product_total_profit": [
          5997.25,
          4925.8,
          10427.33,
          7154.28,
          5562.35,
          5571.26,
          -2180.63,
          11651.68,
          2368.82,
          3630.44,
          5921.58,
          17238.52,
          17027.11,
          9938.2,
          25199.93
         ],
         "product_total_sales": [
          58193.48,
          51449.8,
          50121.52,
          41923.53,
          40585.13,
          39873.23,
          32842.6,
          32644.13,
          29558.82,
          28991.66,
          86935.78,
          76441.53,
          73156.3,
          71904.56,
          61599.82
         ]
        },
        "schema": {
         "fields": [
          {
           "name": "index",
           "type": "integer"
          },
          {
           "name": "category",
           "type": "string"
          },
          {
           "name": "product_name",
           "type": "string"
          },
          {
           "name": "product_total_sales",
           "type": "number"
          },
          {
           "name": "product_total_profit",
           "type": "number"
          },
          {
           "name": "product_rank",
           "type": "integer"
          }
         ],
         "pandas_version": "1.4.0",
         "primaryKey": [
          "index"
         ]
        }
       },
       "total_rows": 15,
       "truncation_type": null
      },
      "text/html": [
       "<div>\n",
       "<style scoped>\n",
       "    .dataframe tbody tr th:only-of-type {\n",
       "        vertical-align: middle;\n",
       "    }\n",
       "\n",
       "    .dataframe tbody tr th {\n",
       "        vertical-align: top;\n",
       "    }\n",
       "\n",
       "    .dataframe thead th {\n",
       "        text-align: right;\n",
       "    }\n",
       "</style>\n",
       "<table border=\"1\" class=\"dataframe\">\n",
       "  <thead>\n",
       "    <tr style=\"text-align: right;\">\n",
       "      <th></th>\n",
       "      <th>category</th>\n",
       "      <th>product_name</th>\n",
       "      <th>product_total_sales</th>\n",
       "      <th>product_total_profit</th>\n",
       "      <th>product_rank</th>\n",
       "    </tr>\n",
       "  </thead>\n",
       "  <tbody>\n",
       "    <tr>\n",
       "      <th>0</th>\n",
       "      <td>Furniture</td>\n",
       "      <td>Hon Executive Leather Armchair, Adjustable</td>\n",
       "      <td>58193.48</td>\n",
       "      <td>5997.25</td>\n",
       "      <td>1</td>\n",
       "    </tr>\n",
       "    <tr>\n",
       "      <th>1</th>\n",
       "      <td>Furniture</td>\n",
       "      <td>Office Star Executive Leather Armchair, Adjust...</td>\n",
       "      <td>51449.80</td>\n",
       "      <td>4925.80</td>\n",
       "      <td>2</td>\n",
       "    </tr>\n",
       "    <tr>\n",
       "      <th>2</th>\n",
       "      <td>Furniture</td>\n",
       "      <td>Harbour Creations Executive Leather Armchair, ...</td>\n",
       "      <td>50121.52</td>\n",
       "      <td>10427.33</td>\n",
       "      <td>3</td>\n",
       "    </tr>\n",
       "    <tr>\n",
       "      <th>3</th>\n",
       "      <td>Furniture</td>\n",
       "      <td>SAFCO Executive Leather Armchair, Black</td>\n",
       "      <td>41923.53</td>\n",
       "      <td>7154.28</td>\n",
       "      <td>4</td>\n",
       "    </tr>\n",
       "    <tr>\n",
       "      <th>4</th>\n",
       "      <td>Furniture</td>\n",
       "      <td>Novimex Executive Leather Armchair, Adjustable</td>\n",
       "      <td>40585.13</td>\n",
       "      <td>5562.35</td>\n",
       "      <td>5</td>\n",
       "    </tr>\n",
       "    <tr>\n",
       "      <th>5</th>\n",
       "      <td>Office Supplies</td>\n",
       "      <td>Eldon File Cart, Single Width</td>\n",
       "      <td>39873.23</td>\n",
       "      <td>5571.26</td>\n",
       "      <td>1</td>\n",
       "    </tr>\n",
       "    <tr>\n",
       "      <th>6</th>\n",
       "      <td>Office Supplies</td>\n",
       "      <td>Hoover Stove, White</td>\n",
       "      <td>32842.60</td>\n",
       "      <td>-2180.63</td>\n",
       "      <td>2</td>\n",
       "    </tr>\n",
       "    <tr>\n",
       "      <th>7</th>\n",
       "      <td>Office Supplies</td>\n",
       "      <td>Hoover Stove, Red</td>\n",
       "      <td>32644.13</td>\n",
       "      <td>11651.68</td>\n",
       "      <td>3</td>\n",
       "    </tr>\n",
       "    <tr>\n",
       "      <th>8</th>\n",
       "      <td>Office Supplies</td>\n",
       "      <td>Rogers File Cart, Single Width</td>\n",
       "      <td>29558.82</td>\n",
       "      <td>2368.82</td>\n",
       "      <td>4</td>\n",
       "    </tr>\n",
       "    <tr>\n",
       "      <th>9</th>\n",
       "      <td>Office Supplies</td>\n",
       "      <td>Smead Lockers, Industrial</td>\n",
       "      <td>28991.66</td>\n",
       "      <td>3630.44</td>\n",
       "      <td>5</td>\n",
       "    </tr>\n",
       "    <tr>\n",
       "      <th>10</th>\n",
       "      <td>Technology</td>\n",
       "      <td>Apple Smart Phone, Full Size</td>\n",
       "      <td>86935.78</td>\n",
       "      <td>5921.58</td>\n",
       "      <td>1</td>\n",
       "    </tr>\n",
       "    <tr>\n",
       "      <th>11</th>\n",
       "      <td>Technology</td>\n",
       "      <td>Cisco Smart Phone, Full Size</td>\n",
       "      <td>76441.53</td>\n",
       "      <td>17238.52</td>\n",
       "      <td>2</td>\n",
       "    </tr>\n",
       "    <tr>\n",
       "      <th>12</th>\n",
       "      <td>Technology</td>\n",
       "      <td>Motorola Smart Phone, Full Size</td>\n",
       "      <td>73156.30</td>\n",
       "      <td>17027.11</td>\n",
       "      <td>3</td>\n",
       "    </tr>\n",
       "    <tr>\n",
       "      <th>13</th>\n",
       "      <td>Technology</td>\n",
       "      <td>Nokia Smart Phone, Full Size</td>\n",
       "      <td>71904.56</td>\n",
       "      <td>9938.20</td>\n",
       "      <td>4</td>\n",
       "    </tr>\n",
       "    <tr>\n",
       "      <th>14</th>\n",
       "      <td>Technology</td>\n",
       "      <td>Canon imageCLASS 2200 Advanced Copier</td>\n",
       "      <td>61599.82</td>\n",
       "      <td>25199.93</td>\n",
       "      <td>5</td>\n",
       "    </tr>\n",
       "  </tbody>\n",
       "</table>\n",
       "</div>"
      ],
      "text/plain": [
       "           category  ... product_rank\n",
       "0         Furniture  ...            1\n",
       "1         Furniture  ...            2\n",
       "2         Furniture  ...            3\n",
       "3         Furniture  ...            4\n",
       "4         Furniture  ...            5\n",
       "5   Office Supplies  ...            1\n",
       "6   Office Supplies  ...            2\n",
       "7   Office Supplies  ...            3\n",
       "8   Office Supplies  ...            4\n",
       "9   Office Supplies  ...            5\n",
       "10       Technology  ...            1\n",
       "11       Technology  ...            2\n",
       "12       Technology  ...            3\n",
       "13       Technology  ...            4\n",
       "14       Technology  ...            5\n",
       "\n",
       "[15 rows x 5 columns]"
      ]
     },
     "execution_count": 5,
     "metadata": {},
     "output_type": "execute_result"
    }
   ],
   "source": [
    "# Find the top 5 products from each category based on highest total sales. The output should be sorted by category in ascending order and by sales in descending order within each category\n",
    "WITH ranked_products AS (\n",
    "    SELECT \n",
    "        products.category,\n",
    "        products.product_name,\n",
    "        ROUND(SUM(ord.sales :: NUMERIC), 2) AS product_total_sales,\n",
    "        ROUND(SUM(ord.profit :: NUMERIC), 2) AS product_total_profit,\n",
    "        RANK() OVER(PARTITION BY products.category ORDER BY SUM(ord.sales) DESC) AS product_rank\n",
    "    FROM orders AS ord\n",
    "    INNER JOIN products ON ord.product_id = products.product_id\n",
    "    GROUP BY products.category, products.product_name\n",
    ")\n",
    "SELECT * \n",
    "FROM ranked_products\n",
    "WHERE product_rank < 6;"
   ]
  },
  {
   "cell_type": "code",
   "execution_count": null,
   "id": "8b2ffa31-81ae-4567-9066-8c1dc6f5ccb1",
   "metadata": {
    "customType": "sql",
    "dataFrameVariableName": "df1",
    "executionCancelledAt": null,
    "executionTime": 1498,
    "lastExecutedAt": 1730237264548,
    "lastExecutedByKernel": "cff6a035-4537-498e-96e1-b6b7c27abc12",
    "lastScheduledRunId": null,
    "lastSuccessfullyExecutedCode": "WITH missing_orders AS (\n    SELECT \n        product_id, discount, market, region, sales, quantity\n    FROM orders \n    WHERE quantity IS NULL\n), \n\nunit_price_calculation AS (\n    SELECT \n        product_id,\n        AVG((sales / quantity) :: NUMERIC) AS unit_price\n    FROM orders \n    WHERE quantity IS NOT NULL\n    GROUP BY product_id\n)\n\nSELECT \n    mo.product_id, mo.discount, mo.market, mo.region, mo.sales, mo.quantity,\n    ROUND(mo.sales:: NUMERIC / upc.unit_price, 0) AS calculated_quantity\nFROM missing_orders AS mo\nJOIN unit_price_calculation AS upc\n    ON mo.product_id = upc.product_id",
    "outputsMetadata": {
     "0": {
      "height": 250,
      "type": "dataFrame"
     }
    },
    "sqlCellMode": "dataFrame",
    "sqlSource": {
     "integrationId": "89e17161-a224-4a8a-846b-0adc0fe7a4b1",
     "integrationType": "postgresql",
     "type": "integration"
    }
   },
   "outputs": [
    {
     "data": {
      "application/com.datacamp.data-table.v2+json": {
       "table": {
        "data": {
         "calculated_quantity": [
          2,
          4,
          3,
          5,
          3
         ],
         "discount": [
          0,
          0,
          0.15,
          0,
          0
         ],
         "index": [
          0,
          1,
          2,
          3,
          4
         ],
         "market": [
          "Africa",
          "EMEA",
          "US",
          "Africa",
          "EMEA"
         ],
         "product_id": [
          "TEC-STA-10003330",
          "FUR-ADV-10000571",
          "FUR-BO-10001337",
          "TEC-STA-10004542",
          "FUR-ADV-10004395"
         ],
         "quantity": [
          null,
          null,
          null,
          null,
          null
         ],
         "region": [
          "Africa",
          "EMEA",
          "West",
          "Africa",
          "EMEA"
         ],
         "sales": [
          506.64,
          438.96,
          308.499,
          160.32,
          84.12
         ]
        },
        "schema": {
         "fields": [
          {
           "name": "index",
           "type": "integer"
          },
          {
           "name": "product_id",
           "type": "string"
          },
          {
           "name": "discount",
           "type": "number"
          },
          {
           "name": "market",
           "type": "string"
          },
          {
           "name": "region",
           "type": "string"
          },
          {
           "name": "sales",
           "type": "number"
          },
          {
           "name": "quantity",
           "type": "number"
          },
          {
           "name": "calculated_quantity",
           "type": "integer"
          }
         ],
         "pandas_version": "1.4.0",
         "primaryKey": [
          "index"
         ]
        }
       },
       "total_rows": 5,
       "truncation_type": null
      },
      "text/html": [
       "<div>\n",
       "<style scoped>\n",
       "    .dataframe tbody tr th:only-of-type {\n",
       "        vertical-align: middle;\n",
       "    }\n",
       "\n",
       "    .dataframe tbody tr th {\n",
       "        vertical-align: top;\n",
       "    }\n",
       "\n",
       "    .dataframe thead th {\n",
       "        text-align: right;\n",
       "    }\n",
       "</style>\n",
       "<table border=\"1\" class=\"dataframe\">\n",
       "  <thead>\n",
       "    <tr style=\"text-align: right;\">\n",
       "      <th></th>\n",
       "      <th>product_id</th>\n",
       "      <th>discount</th>\n",
       "      <th>market</th>\n",
       "      <th>region</th>\n",
       "      <th>sales</th>\n",
       "      <th>quantity</th>\n",
       "      <th>calculated_quantity</th>\n",
       "    </tr>\n",
       "  </thead>\n",
       "  <tbody>\n",
       "    <tr>\n",
       "      <th>0</th>\n",
       "      <td>TEC-STA-10003330</td>\n",
       "      <td>0.00</td>\n",
       "      <td>Africa</td>\n",
       "      <td>Africa</td>\n",
       "      <td>506.640</td>\n",
       "      <td>NaN</td>\n",
       "      <td>2</td>\n",
       "    </tr>\n",
       "    <tr>\n",
       "      <th>1</th>\n",
       "      <td>FUR-ADV-10000571</td>\n",
       "      <td>0.00</td>\n",
       "      <td>EMEA</td>\n",
       "      <td>EMEA</td>\n",
       "      <td>438.960</td>\n",
       "      <td>NaN</td>\n",
       "      <td>4</td>\n",
       "    </tr>\n",
       "    <tr>\n",
       "      <th>2</th>\n",
       "      <td>FUR-BO-10001337</td>\n",
       "      <td>0.15</td>\n",
       "      <td>US</td>\n",
       "      <td>West</td>\n",
       "      <td>308.499</td>\n",
       "      <td>NaN</td>\n",
       "      <td>3</td>\n",
       "    </tr>\n",
       "    <tr>\n",
       "      <th>3</th>\n",
       "      <td>TEC-STA-10004542</td>\n",
       "      <td>0.00</td>\n",
       "      <td>Africa</td>\n",
       "      <td>Africa</td>\n",
       "      <td>160.320</td>\n",
       "      <td>NaN</td>\n",
       "      <td>5</td>\n",
       "    </tr>\n",
       "    <tr>\n",
       "      <th>4</th>\n",
       "      <td>FUR-ADV-10004395</td>\n",
       "      <td>0.00</td>\n",
       "      <td>EMEA</td>\n",
       "      <td>EMEA</td>\n",
       "      <td>84.120</td>\n",
       "      <td>NaN</td>\n",
       "      <td>3</td>\n",
       "    </tr>\n",
       "  </tbody>\n",
       "</table>\n",
       "</div>"
      ],
      "text/plain": [
       "         product_id  discount  market  ...    sales  quantity  calculated_quantity\n",
       "0  TEC-STA-10003330      0.00  Africa  ...  506.640       NaN                    2\n",
       "1  FUR-ADV-10000571      0.00    EMEA  ...  438.960       NaN                    4\n",
       "2   FUR-BO-10001337      0.15      US  ...  308.499       NaN                    3\n",
       "3  TEC-STA-10004542      0.00  Africa  ...  160.320       NaN                    5\n",
       "4  FUR-ADV-10004395      0.00    EMEA  ...   84.120       NaN                    3\n",
       "\n",
       "[5 rows x 7 columns]"
      ]
     },
     "execution_count": 11,
     "metadata": {},
     "output_type": "execute_result"
    }
   ],
   "source": [
    "# Calculate the quantity for orders with missing values in the quantity column.\n",
    "WITH missing_orders AS (\n",
    "    SELECT \n",
    "        product_id, discount, market, region, sales, quantity\n",
    "    FROM orders \n",
    "    WHERE quantity IS NULL\n",
    "), \n",
    "\n",
    "unit_price_calculation AS (\n",
    "    SELECT \n",
    "        product_id,\n",
    "        AVG((sales / quantity) :: NUMERIC) AS unit_price\n",
    "    FROM orders \n",
    "    WHERE quantity IS NOT NULL\n",
    "    GROUP BY product_id\n",
    ")\n",
    "\n",
    "SELECT \n",
    "    mo.product_id, mo.discount, mo.market, mo.region, mo.sales, mo.quantity,\n",
    "    ROUND(mo.sales:: NUMERIC / upc.unit_price, 0) AS calculated_quantity\n",
    "FROM missing_orders AS mo\n",
    "JOIN unit_price_calculation AS upc\n",
    "    ON mo.product_id = upc.product_id"
   ]
  }
 ],
 "metadata": {
  "colab": {
   "name": "Welcome to DataCamp Workspaces.ipynb",
   "provenance": []
  },
  "editor": "DataLab",
  "kernelspec": {
   "display_name": "Python 3",
   "language": "python",
   "name": "python3"
  },
  "language_info": {
   "codemirror_mode": {
    "name": "ipython",
    "version": 3
   },
   "file_extension": ".py",
   "mimetype": "text/x-python",
   "name": "python",
   "nbconvert_exporter": "python",
   "pygments_lexer": "ipython3",
   "version": "3.11.9"
  }
 },
 "nbformat": 4,
 "nbformat_minor": 5
}
