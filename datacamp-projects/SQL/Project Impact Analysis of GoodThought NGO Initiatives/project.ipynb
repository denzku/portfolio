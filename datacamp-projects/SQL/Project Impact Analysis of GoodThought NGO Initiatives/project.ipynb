{
 "cells": [
  {
   "cell_type": "markdown",
   "id": "32803968-253d-4647-9262-8be3fa184271",
   "metadata": {},
   "source": [
    "GoodThought NGO has been a catalyst for positive change, focusing its efforts on education, healthcare, and sustainable development to make a significant difference in communities worldwide. With this mission, GoodThought has orchestrated an array of assignments aimed at uplifting underprivileged populations and fostering long-term growth.\n",
    "\n",
    "- **`Assignments`:** Details about each project, including its name, duration (start and end dates), budget, geographical region, and the impact score.\n",
    "- **`Donations`:** Records of financial contributions, linked to specific donors and assignments, highlighting how financial support is allocated and utilized.\n",
    "- **`Donors`:** Information on individuals and organizations that fund GoodThought’s projects, including donor types."
   ]
  },
  {
   "cell_type": "markdown",
   "id": "90f83ece-9e0b-43f6-bb6f-72308c54f6d6",
   "metadata": {},
   "source": [
    "### Listing the top five assignments based on total value of donations, categorized by donor type."
   ]
  },
  {
   "cell_type": "code",
   "execution_count": null,
   "id": "b9c29e39-7d27-4a41-b9f6-553eb2881519",
   "metadata": {
    "customType": "sql",
    "dataFrameVariableName": "highest_donation_assignments",
    "executionCancelledAt": null,
    "executionTime": 1206,
    "lastExecutedAt": 1729259091320,
    "lastExecutedByKernel": "e4334a1e-1d93-47f9-9dbc-06011f417260",
    "lastScheduledRunId": null,
    "lastSuccessfullyExecutedCode": "-- highest_donation_assignments\nWITH donor_totals AS (\n  SELECT \n    d.assignment_id,\n    ROUND(SUM(d.amount), 2) AS total_donation_amount,\n    dn.donor_type\n  FROM \n    donations d\n  JOIN \n    donors dn ON d.donor_id = dn.donor_id\n  GROUP BY \n    d.assignment_id, dn.donor_type\n)\nSELECT \n  a.assignment_name,\n  a.region,\n  dt.total_donation_amount AS rounded_total_donation_amount,\n  dt.donor_type\nFROM \n  assignments a\nINNER JOIN \n  donor_totals dt ON a.assignment_id = dt.assignment_id\nORDER BY \n  dt.total_donation_amount DESC\nLIMIT 5;",
    "outputsMetadata": {
     "0": {
      "height": 222,
      "type": "dataFrame"
     }
    },
    "sqlCellMode": "dataFrame",
    "sqlSource": {
     "integrationId": "89e17161-a224-4a8a-846b-0adc0fe7a4b1",
     "integrationType": "postgresql",
     "type": "integration"
    }
   },
   "outputs": [
    {
     "data": {
      "application/com.datacamp.data-table.v2+json": {
       "table": {
        "data": {
         "assignment_name": [
          "Assignment_3033",
          "Assignment_300",
          "Assignment_4114",
          "Assignment_1765",
          "Assignment_268"
         ],
         "donor_type": [
          "Individual",
          "Organization",
          "Organization",
          "Organization",
          "Individual"
         ],
         "index": [
          0,
          1,
          2,
          3,
          4
         ],
         "region": [
          "East",
          "West",
          "North",
          "West",
          "East"
         ],
         "rounded_total_donation_amount": [
          3840.66,
          3133.98,
          2778.57,
          2626.98,
          2488.69
         ]
        },
        "schema": {
         "fields": [
          {
           "name": "index",
           "type": "integer"
          },
          {
           "name": "assignment_name",
           "type": "string"
          },
          {
           "name": "region",
           "type": "string"
          },
          {
           "name": "rounded_total_donation_amount",
           "type": "number"
          },
          {
           "name": "donor_type",
           "type": "string"
          }
         ],
         "pandas_version": "1.4.0",
         "primaryKey": [
          "index"
         ]
        }
       },
       "total_rows": 5,
       "truncation_type": null
      },
      "text/html": [
       "<div>\n",
       "<style scoped>\n",
       "    .dataframe tbody tr th:only-of-type {\n",
       "        vertical-align: middle;\n",
       "    }\n",
       "\n",
       "    .dataframe tbody tr th {\n",
       "        vertical-align: top;\n",
       "    }\n",
       "\n",
       "    .dataframe thead th {\n",
       "        text-align: right;\n",
       "    }\n",
       "</style>\n",
       "<table border=\"1\" class=\"dataframe\">\n",
       "  <thead>\n",
       "    <tr style=\"text-align: right;\">\n",
       "      <th></th>\n",
       "      <th>assignment_name</th>\n",
       "      <th>region</th>\n",
       "      <th>rounded_total_donation_amount</th>\n",
       "      <th>donor_type</th>\n",
       "    </tr>\n",
       "  </thead>\n",
       "  <tbody>\n",
       "    <tr>\n",
       "      <th>0</th>\n",
       "      <td>Assignment_3033</td>\n",
       "      <td>East</td>\n",
       "      <td>3840.66</td>\n",
       "      <td>Individual</td>\n",
       "    </tr>\n",
       "    <tr>\n",
       "      <th>1</th>\n",
       "      <td>Assignment_300</td>\n",
       "      <td>West</td>\n",
       "      <td>3133.98</td>\n",
       "      <td>Organization</td>\n",
       "    </tr>\n",
       "    <tr>\n",
       "      <th>2</th>\n",
       "      <td>Assignment_4114</td>\n",
       "      <td>North</td>\n",
       "      <td>2778.57</td>\n",
       "      <td>Organization</td>\n",
       "    </tr>\n",
       "    <tr>\n",
       "      <th>3</th>\n",
       "      <td>Assignment_1765</td>\n",
       "      <td>West</td>\n",
       "      <td>2626.98</td>\n",
       "      <td>Organization</td>\n",
       "    </tr>\n",
       "    <tr>\n",
       "      <th>4</th>\n",
       "      <td>Assignment_268</td>\n",
       "      <td>East</td>\n",
       "      <td>2488.69</td>\n",
       "      <td>Individual</td>\n",
       "    </tr>\n",
       "  </tbody>\n",
       "</table>\n",
       "</div>"
      ],
      "text/plain": [
       "   assignment_name region  rounded_total_donation_amount    donor_type\n",
       "0  Assignment_3033   East                        3840.66    Individual\n",
       "1   Assignment_300   West                        3133.98  Organization\n",
       "2  Assignment_4114  North                        2778.57  Organization\n",
       "3  Assignment_1765   West                        2626.98  Organization\n",
       "4   Assignment_268   East                        2488.69    Individual"
      ]
     },
     "execution_count": 21,
     "metadata": {},
     "output_type": "execute_result"
    }
   ],
   "source": [
    "WITH donor_totals AS (\n",
    "  SELECT \n",
    "    d.assignment_id,\n",
    "    ROUND(SUM(d.amount), 2) AS total_donation_amount,\n",
    "    dn.donor_type\n",
    "  FROM \n",
    "    donations d\n",
    "  JOIN \n",
    "    donors dn ON d.donor_id = dn.donor_id\n",
    "  GROUP BY \n",
    "    d.assignment_id, dn.donor_type\n",
    ")\n",
    "SELECT \n",
    "  a.assignment_name,\n",
    "  a.region,\n",
    "  dt.total_donation_amount AS rounded_total_donation_amount,\n",
    "  dt.donor_type\n",
    "FROM \n",
    "  assignments a\n",
    "INNER JOIN \n",
    "  donor_totals dt ON a.assignment_id = dt.assignment_id\n",
    "ORDER BY \n",
    "  dt.total_donation_amount DESC\n",
    "LIMIT 5;"
   ]
  },
  {
   "cell_type": "markdown",
   "id": "f93f8526-89d8-4100-9b07-ed87299299a8",
   "metadata": {},
   "source": [
    "### Identifing the assignment with the highest impact score in each region, ensuring that each listed assignment has received at least one donation."
   ]
  },
  {
   "cell_type": "code",
   "execution_count": 22,
   "id": "7ffa5c94-fda1-4b9d-b8f3-a6442b00e423",
   "metadata": {
    "customType": "sql",
    "dataFrameVariableName": "top_regional_impact_assignments",
    "executionCancelledAt": null,
    "executionTime": 1187,
    "lastExecutedAt": 1729259092507,
    "lastExecutedByKernel": "e4334a1e-1d93-47f9-9dbc-06011f417260",
    "lastScheduledRunId": null,
    "lastSuccessfullyExecutedCode": "WITH donation_summary AS (\n  SELECT assignment_id, COUNT(*) AS total_donations\n  FROM donations\n  GROUP BY assignment_id\n),\nassignment_rankings AS (\n  SELECT \n    a.assignment_name,\n    a.region,\n    a.impact_score,\n    COALESCE(ds.total_donations, 0) AS num_total_donations,\n    ROW_NUMBER() OVER (PARTITION BY a.region ORDER BY a.impact_score DESC) AS regional_rank\n  FROM assignments a\n  JOIN donation_summary ds ON a.assignment_id = ds.assignment_id\n)\nSELECT\n  assignment_name,\n  region,\n  impact_score,\n  num_total_donations\nFROM assignment_rankings\nWHERE regional_rank = 1\nORDER BY region ASC;",
    "outputsMetadata": {
     "0": {
      "height": 194,
      "type": "dataFrame"
     }
    },
    "sqlCellMode": "dataFrame",
    "sqlSource": {
     "integrationId": "89e17161-a224-4a8a-846b-0adc0fe7a4b1",
     "integrationType": "postgresql",
     "type": "integration"
    }
   },
   "outputs": [
    {
     "data": {
      "application/com.datacamp.data-table.v2+json": {
       "table": {
        "data": {
         "assignment_name": [
          "Assignment_316",
          "Assignment_2253",
          "Assignment_3547",
          "Assignment_2794"
         ],
         "impact_score": [
          10,
          9.99,
          10,
          9.99
         ],
         "index": [
          0,
          1,
          2,
          3
         ],
         "num_total_donations": [
          2,
          1,
          1,
          2
         ],
         "region": [
          "East",
          "North",
          "South",
          "West"
         ]
        },
        "schema": {
         "fields": [
          {
           "name": "index",
           "type": "integer"
          },
          {
           "name": "assignment_name",
           "type": "string"
          },
          {
           "name": "region",
           "type": "string"
          },
          {
           "name": "impact_score",
           "type": "number"
          },
          {
           "name": "num_total_donations",
           "type": "integer"
          }
         ],
         "pandas_version": "1.4.0",
         "primaryKey": [
          "index"
         ]
        }
       },
       "total_rows": 4,
       "truncation_type": null
      },
      "text/html": [
       "<div>\n",
       "<style scoped>\n",
       "    .dataframe tbody tr th:only-of-type {\n",
       "        vertical-align: middle;\n",
       "    }\n",
       "\n",
       "    .dataframe tbody tr th {\n",
       "        vertical-align: top;\n",
       "    }\n",
       "\n",
       "    .dataframe thead th {\n",
       "        text-align: right;\n",
       "    }\n",
       "</style>\n",
       "<table border=\"1\" class=\"dataframe\">\n",
       "  <thead>\n",
       "    <tr style=\"text-align: right;\">\n",
       "      <th></th>\n",
       "      <th>assignment_name</th>\n",
       "      <th>region</th>\n",
       "      <th>impact_score</th>\n",
       "      <th>num_total_donations</th>\n",
       "    </tr>\n",
       "  </thead>\n",
       "  <tbody>\n",
       "    <tr>\n",
       "      <th>0</th>\n",
       "      <td>Assignment_316</td>\n",
       "      <td>East</td>\n",
       "      <td>10.00</td>\n",
       "      <td>2</td>\n",
       "    </tr>\n",
       "    <tr>\n",
       "      <th>1</th>\n",
       "      <td>Assignment_2253</td>\n",
       "      <td>North</td>\n",
       "      <td>9.99</td>\n",
       "      <td>1</td>\n",
       "    </tr>\n",
       "    <tr>\n",
       "      <th>2</th>\n",
       "      <td>Assignment_3547</td>\n",
       "      <td>South</td>\n",
       "      <td>10.00</td>\n",
       "      <td>1</td>\n",
       "    </tr>\n",
       "    <tr>\n",
       "      <th>3</th>\n",
       "      <td>Assignment_2794</td>\n",
       "      <td>West</td>\n",
       "      <td>9.99</td>\n",
       "      <td>2</td>\n",
       "    </tr>\n",
       "  </tbody>\n",
       "</table>\n",
       "</div>"
      ],
      "text/plain": [
       "   assignment_name region  impact_score  num_total_donations\n",
       "0   Assignment_316   East         10.00                    2\n",
       "1  Assignment_2253  North          9.99                    1\n",
       "2  Assignment_3547  South         10.00                    1\n",
       "3  Assignment_2794   West          9.99                    2"
      ]
     },
     "execution_count": 22,
     "metadata": {},
     "output_type": "execute_result"
    }
   ],
   "source": [
    "WITH donation_summary AS (\n",
    "  SELECT assignment_id, COUNT(*) AS total_donations\n",
    "  FROM donations\n",
    "  GROUP BY assignment_id\n",
    "),\n",
    "assignment_rankings AS (\n",
    "  SELECT \n",
    "    a.assignment_name,\n",
    "    a.region,\n",
    "    a.impact_score,\n",
    "    COALESCE(ds.total_donations, 0) AS num_total_donations,\n",
    "    ROW_NUMBER() OVER (PARTITION BY a.region ORDER BY a.impact_score DESC) AS regional_rank\n",
    "  FROM assignments a\n",
    "  JOIN donation_summary ds ON a.assignment_id = ds.assignment_id\n",
    ")\n",
    "SELECT\n",
    "  assignment_name,\n",
    "  region,\n",
    "  impact_score,\n",
    "  num_total_donations\n",
    "FROM assignment_rankings\n",
    "WHERE regional_rank = 1\n",
    "ORDER BY region ASC;"
   ]
  }
 ],
 "metadata": {
  "colab": {
   "name": "Welcome to DataCamp Workspaces.ipynb",
   "provenance": []
  },
  "kernelspec": {
   "display_name": "Python 3 (ipykernel)",
   "language": "python",
   "name": "python3"
  },
  "language_info": {
   "codemirror_mode": {
    "name": "ipython",
    "version": 3
   },
   "file_extension": ".py",
   "mimetype": "text/x-python",
   "name": "python",
   "nbconvert_exporter": "python",
   "pygments_lexer": "ipython3",
   "version": "3.8.10"
  }
 },
 "nbformat": 4,
 "nbformat_minor": 5
}
